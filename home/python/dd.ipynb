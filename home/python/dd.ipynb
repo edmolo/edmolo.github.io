{
 "cells": [
  {
   "cell_type": "code",
   "execution_count": 6,
   "id": "initial_id",
   "metadata": {
    "collapsed": true,
    "ExecuteTime": {
     "end_time": "2024-01-11T00:15:35.750820Z",
     "start_time": "2024-01-11T00:15:35.744581Z"
    }
   },
   "outputs": [],
   "source": [
    "def DelayDiscount(Amount=None, Delay=None, Value=None, K=None):\n",
    "    # this function can calculate different parameters for the Delay discounting measure. Use at your own risk. I have not validated it extensively. I needed this function and derived the different expressions on the back of a bar napkin. However, it accurately determined K values for the 27 original question items in Kirby 1999.\n",
    "    if Amount is None:\n",
    "        a = Value + (Value*K)*(Value*Delay)\n",
    "        return print(f\"Amount can be assumed to be {a}\")\n",
    "    elif Delay is None:\n",
    "       d = ((Amount - Value)/Value)/K\n",
    "       return print(f\"Delay can be assumed to be {d}\")\n",
    "    elif Value is None: \n",
    "        # base function\n",
    "        V = Amount / (1 +(K*Delay))\n",
    "        return print(f\"Value can be assumed to be {V}\")\n",
    "    elif K is None:\n",
    "        k = ((Amount - Value)/Value)/Delay\n",
    "        return print(f\"Discount rate can be assumed to be {k}\")\n",
    "    else: \n",
    "        return print(\"error in calculating\")"
   ]
  },
  {
   "cell_type": "code",
   "execution_count": 7,
   "outputs": [],
   "source": [
    "question_options =['Would you prefer $54 today, or $55 in 117 days?',\n",
    "    'Would you prefer $55 today, or $75 in 61 days?',\n",
    "    'Would you prefer $19 today, or $25 in 53 days?',\n",
    "    'Would you prefer $31 today, or $85 in 7 days?','Would you prefer $14 today, or $25 in 19 days?',\n",
    "    'Would you prefer $47 today, or $50 in 160 days?',\n",
    "    'Would you prefer $15 today, or $35 in 13 days?',\n",
    "    'Would you prefer $25 today, or $60 in 14 days?',\n",
    "    'Would you prefer $78 today, or $80 in 162 days?',\n",
    "    'Would you prefer $40 today, or $55 in 62 days?',\n",
    "    'Would you prefer $11 today, or $30 in 7 days?',\n",
    "    'Would you prefer $67 today, or $75 in 119 days?',\n",
    "    'Would you prefer $34 today, or $35 in 186 days?',\n",
    "    'Would you prefer $27 today, or $50 in 21 days?',\n",
    "    'Would you prefer $69 today, or $85 in 91 days?',\n",
    "    'Would you prefer $49 today, or $60 in 89 days?',\n",
    "    'Would you prefer $80 today, or $85 in 157 days?',\n",
    "    'Would you prefer $24 today, or $35 in 29 days?',\n",
    "    'Would you prefer $33 today, or $80 in 14 days?',\n",
    "    'Would you prefer $28 today, or $30 in 179 days?',\n",
    "    'Would you prefer $34 today, or $50 in 30 days?',\n",
    "    'Would you prefer $25 today, or $30 in 80 days?',\n",
    "    'Would you prefer $41 today, or $75 in 20 days?',\n",
    "    'Would you prefer $54 today, or $60 in 111 days?',\n",
    "    'Would you prefer $54 today, or $80 in 30 days?',\n",
    "    'Would you prefer $22 today, or $25 in 136 days?',\n",
    "    'Would you prefer $20 today, or $55 in 7 days?'    \n",
    "]"
   ],
   "metadata": {
    "collapsed": false,
    "ExecuteTime": {
     "end_time": "2024-01-11T00:15:36.177568Z",
     "start_time": "2024-01-11T00:15:36.173415Z"
    }
   },
   "id": "f4a518a90988b151"
  },
  {
   "cell_type": "code",
   "execution_count": 8,
   "outputs": [],
   "source": [
    "dollar_options = []\n",
    "days = []\n",
    "for opt in question_options:\n",
    "    dollar_options.append(opt[18:20])\n",
    "    dollar_options.append(opt[32:34])\n",
    "    days.append(opt[38:41])\n",
    "days = [int(day.strip('d').strip(' ')) for day in days]\n",
    "dollar_options = [(int(dollar_options[i]), int(dollar_options[i+1])) for i in range(0, len(dollar_options), 2)]\n",
    "durVchoices = tuple(zip(days, dollar_options))\n",
    "q_and_c = dict(zip(question_options,durVchoices))\n"
   ],
   "metadata": {
    "collapsed": false,
    "ExecuteTime": {
     "end_time": "2024-01-11T00:15:36.629501Z",
     "start_time": "2024-01-11T00:15:36.625522Z"
    }
   },
   "id": "baf3913b727c819a"
  },
  {
   "cell_type": "code",
   "execution_count": 9,
   "outputs": [],
   "source": [
    "def idealK(element):\n",
    "    # this function calculates the delay discount rate for the questions that I am using in Effects of LE messaging on TH. Call it on list of tuples containing the question options and delay.It then calls the previously defined DelayDiscount funtion and returns the result. As you'll see, with some light rounding and estimation, it reflects Kirby 1999. \n",
    "    InstantValue = element[1][0]\n",
    "    b = DelayDiscount(Amount=element[1][1],Delay=element[0],Value=InstantValue,K=None)\n",
    "    # these rates reflect the rate at which an individual would be indifferent between the two presented options. Thus, their choice reflects their current willingness to either wait or be instantly gratified. if they choose the delayed option, they likely have a discount rate LOWER than the ideal K for the question. If they choose the instant, theirs is likely HIGHER. The midpoint between all of their answers will likely approximate their current willingness to discount delayed outcomes. \n",
    "    return b"
   ],
   "metadata": {
    "collapsed": false,
    "ExecuteTime": {
     "end_time": "2024-01-11T00:15:37.111630Z",
     "start_time": "2024-01-11T00:15:37.109786Z"
    }
   },
   "id": "d3a146efc0f1fd9d"
  },
  {
   "cell_type": "code",
   "execution_count": 13,
   "outputs": [
    {
     "name": "stdout",
     "output_type": "stream",
     "text": [
      "Discount rate can be assumed to be 0.00015827793605571383\n",
      "Discount rate can be assumed to be 0.005961251862891207\n",
      "Discount rate can be assumed to be 0.005958291956305858\n",
      "Discount rate can be assumed to be 0.2488479262672811\n",
      "Discount rate can be assumed to be 0.041353383458646614\n",
      "Discount rate can be assumed to be 0.00039893617021276594\n",
      "Discount rate can be assumed to be 0.10256410256410256\n",
      "Discount rate can be assumed to be 0.09999999999999999\n",
      "Discount rate can be assumed to be 0.00015827793605571383\n",
      "Discount rate can be assumed to be 0.006048387096774193\n",
      "Discount rate can be assumed to be 0.24675324675324675\n",
      "Discount rate can be assumed to be 0.001003386429198545\n",
      "Discount rate can be assumed to be 0.00015812776723592663\n",
      "Discount rate can be assumed to be 0.04056437389770723\n",
      "Discount rate can be assumed to be 0.0025481764612199395\n",
      "Discount rate can be assumed to be 0.0025223572575097455\n",
      "Discount rate can be assumed to be 0.0003980891719745223\n",
      "Discount rate can be assumed to be 0.015804597701149423\n",
      "Discount rate can be assumed to be 0.10173160173160174\n",
      "Discount rate can be assumed to be 0.00039904229848363923\n",
      "Discount rate can be assumed to be 0.01568627450980392\n",
      "Discount rate can be assumed to be 0.0025\n",
      "Discount rate can be assumed to be 0.04146341463414634\n",
      "Discount rate can be assumed to be 0.001001001001001001\n",
      "Discount rate can be assumed to be 0.01604938271604938\n",
      "Discount rate can be assumed to be 0.0010026737967914437\n",
      "Discount rate can be assumed to be 0.25\n"
     ]
    }
   ],
   "source": [
    "DD_Rate = [idealK(i) for i in durVchoices]\n",
    "# Mark, Rates mostly match prior lit"
   ],
   "metadata": {
    "collapsed": false,
    "ExecuteTime": {
     "end_time": "2024-01-11T00:16:13.939422Z",
     "start_time": "2024-01-11T00:16:13.935260Z"
    }
   },
   "id": "ab06a67569727d88"
  },
  {
   "cell_type": "code",
   "execution_count": null,
   "outputs": [],
   "source": [],
   "metadata": {
    "collapsed": false
   },
   "id": "4983c59934f8e30f"
  }
 ],
 "metadata": {
  "kernelspec": {
   "display_name": "Python 3",
   "language": "python",
   "name": "python3"
  },
  "language_info": {
   "codemirror_mode": {
    "name": "ipython",
    "version": 2
   },
   "file_extension": ".py",
   "mimetype": "text/x-python",
   "name": "python",
   "nbconvert_exporter": "python",
   "pygments_lexer": "ipython2",
   "version": "2.7.6"
  }
 },
 "nbformat": 4,
 "nbformat_minor": 5
}
